{
  "nbformat": 4,
  "nbformat_minor": 0,
  "metadata": {
    "colab": {
      "provenance": [],
      "collapsed_sections": []
    },
    "kernelspec": {
      "name": "python3",
      "display_name": "Python 3"
    },
    "language_info": {
      "name": "python"
    }
  },
  "cells": [
    {
      "cell_type": "code",
      "source": [
        "cd /content/drive/MyDrive/CNN"
      ],
      "metadata": {
        "id": "x1IvsqWoG3qR",
        "colab": {
          "base_uri": "https://localhost:8080/"
        },
        "outputId": "5f4ab442-b41e-4552-cf2b-d4a99864c519"
      },
      "execution_count": null,
      "outputs": [
        {
          "output_type": "stream",
          "name": "stdout",
          "text": [
            "/content/drive/MyDrive/CNN\n"
          ]
        }
      ]
    },
    {
      "cell_type": "code",
      "source": [
        "ls"
      ],
      "metadata": {
        "id": "VaOSrK7mHLnh",
        "colab": {
          "base_uri": "https://localhost:8080/"
        },
        "outputId": "086fa44b-a70c-450f-f486-151bf5275da8"
      },
      "execution_count": null,
      "outputs": [
        {
          "output_type": "stream",
          "name": "stdout",
          "text": [
            "\u001b[0m\u001b[01;34mflowers\u001b[0m/  Flowers-Dataset.zip  flowers.h5  Untitled0.ipynb\n"
          ]
        }
      ]
    },
    {
      "cell_type": "code",
      "source": [
        "pwd"
      ],
      "metadata": {
        "id": "ah843YwiHNGI",
        "colab": {
          "base_uri": "https://localhost:8080/",
          "height": 36
        },
        "outputId": "5797b7f2-a55c-4ce5-9e31-a734b9949f6d"
      },
      "execution_count": null,
      "outputs": [
        {
          "output_type": "execute_result",
          "data": {
            "text/plain": [
              "'/content/drive/MyDrive/CNN'"
            ],
            "application/vnd.google.colaboratory.intrinsic+json": {
              "type": "string"
            }
          },
          "metadata": {},
          "execution_count": 4
        }
      ]
    },
    {
      "cell_type": "code",
      "source": [
        "!unzip Flowers-Dataset.zip"
      ],
      "metadata": {
        "id": "WswotwutHxgR",
        "colab": {
          "base_uri": "https://localhost:8080/"
        },
        "outputId": "a0056313-6535-4886-d889-bb0d82d52513"
      },
      "execution_count": null,
      "outputs": [
        {
          "output_type": "stream",
          "name": "stdout",
          "text": [
            "Archive:  Flowers-Dataset.zip\n",
            "replace flowers/daisy/100080576_f52e8ee070_n.jpg? [y]es, [n]o, [A]ll, [N]one, [r]ename: n\n",
            "replace flowers/daisy/10140303196_b88d3d6cec.jpg? [y]es, [n]o, [A]ll, [N]one, [r]ename: n\n",
            "replace flowers/daisy/10172379554_b296050f82_n.jpg? [y]es, [n]o, [A]ll, [N]one, [r]ename: N\n"
          ]
        }
      ]
    },
    {
      "cell_type": "code",
      "source": [
        "from tensorflow.keras.preprocessing.image import ImageDataGenerator"
      ],
      "metadata": {
        "id": "4gXq80llJB6Z"
      },
      "execution_count": null,
      "outputs": []
    },
    {
      "cell_type": "code",
      "source": [
        "train_datagen = ImageDataGenerator(rescale=1./255,horizontal_flip=True, vertical_flip=True)"
      ],
      "metadata": {
        "id": "ai81XNhKOdAc"
      },
      "execution_count": null,
      "outputs": []
    },
    {
      "cell_type": "code",
      "source": [
        "test_datagen = ImageDataGenerator(rescale=1./255)"
      ],
      "metadata": {
        "id": "hw0iWWvh7S4e"
      },
      "execution_count": null,
      "outputs": []
    },
    {
      "cell_type": "code",
      "source": [
        "X_train = train_datagen.flow_from_directory(r\"/content/drive/MyDrive/CNN/flowers\",target_size=(64,64),class_mode=\"categorical\",batch_size=32)"
      ],
      "metadata": {
        "id": "vqrWdIGKs7M7",
        "colab": {
          "base_uri": "https://localhost:8080/"
        },
        "outputId": "07ceaf22-633a-41b9-80f8-0fcf3eb36179"
      },
      "execution_count": null,
      "outputs": [
        {
          "output_type": "stream",
          "name": "stdout",
          "text": [
            "Found 4317 images belonging to 5 classes.\n"
          ]
        }
      ]
    },
    {
      "cell_type": "code",
      "source": [
        "X_test = test_datagen.flow_from_directory(r\"/content/drive/MyDrive/CNN/flowers\",target_size=(64,64),class_mode=\"categorical\",batch_size=32)"
      ],
      "metadata": {
        "colab": {
          "base_uri": "https://localhost:8080/"
        },
        "id": "PsYKnveZ314Z",
        "outputId": "80264f95-ae66-4397-e9c6-289c64f05f47"
      },
      "execution_count": null,
      "outputs": [
        {
          "output_type": "stream",
          "name": "stdout",
          "text": [
            "Found 4317 images belonging to 5 classes.\n"
          ]
        }
      ]
    },
    {
      "cell_type": "code",
      "source": [
        "from tensorflow.keras.models import Sequential\n",
        "from tensorflow.keras.layers import Convolution2D,MaxPooling2D,Flatten,Dense"
      ],
      "metadata": {
        "id": "d8QOvojwZOmL"
      },
      "execution_count": null,
      "outputs": []
    },
    {
      "cell_type": "code",
      "source": [
        "model = Sequential()"
      ],
      "metadata": {
        "id": "wffLCrM2aT8Z"
      },
      "execution_count": null,
      "outputs": []
    },
    {
      "cell_type": "code",
      "source": [
        "model.add(Convolution2D(32,(3,3),activation=\"relu\",input_shape=(64,64,3)))"
      ],
      "metadata": {
        "id": "rPNf-VhUa_rz"
      },
      "execution_count": null,
      "outputs": []
    },
    {
      "cell_type": "code",
      "source": [
        "model.add(MaxPooling2D(pool_size = (2,2)))"
      ],
      "metadata": {
        "id": "TZPn4JMPcEx9"
      },
      "execution_count": null,
      "outputs": []
    },
    {
      "cell_type": "code",
      "source": [
        "model.add(Flatten())"
      ],
      "metadata": {
        "id": "F9OhFogPcltS"
      },
      "execution_count": null,
      "outputs": []
    },
    {
      "cell_type": "code",
      "source": [
        "model.add(Dense(300,activation=\"relu\"))"
      ],
      "metadata": {
        "id": "I_3UkLfk-YHS"
      },
      "execution_count": null,
      "outputs": []
    },
    {
      "cell_type": "code",
      "source": [
        "model.add(Dense(300,activation=\"relu\"))"
      ],
      "metadata": {
        "id": "Gw6tDUxY-rCZ"
      },
      "execution_count": null,
      "outputs": []
    },
    {
      "cell_type": "code",
      "source": [
        "model.add(Dense(5,activation=\"softmax\"))"
      ],
      "metadata": {
        "id": "O_MzfMUx_KZk"
      },
      "execution_count": null,
      "outputs": []
    },
    {
      "cell_type": "code",
      "source": [
        "model.compile(loss=\"categorical_crossentropy\",metrics=[\"accuracy\"],optimizer=\"adam\")"
      ],
      "metadata": {
        "id": "C_4u4N5H_ZRI"
      },
      "execution_count": null,
      "outputs": []
    },
    {
      "cell_type": "code",
      "source": [
        "model.fit(X_train,epochs=5,validation_data=X_test,steps_per_epoch=len(X_train),validation_steps=len(X_test))"
      ],
      "metadata": {
        "colab": {
          "base_uri": "https://localhost:8080/"
        },
        "id": "MY-bLoRNA4Kp",
        "outputId": "500567cb-a35f-43d2-aec5-62062e0f822f"
      },
      "execution_count": null,
      "outputs": [
        {
          "output_type": "stream",
          "name": "stdout",
          "text": [
            "Epoch 1/5\n",
            "135/135 [==============================] - 61s 444ms/step - loss: 1.4076 - accuracy: 0.4452 - val_loss: 1.1659 - val_accuracy: 0.4913\n",
            "Epoch 2/5\n",
            "135/135 [==============================] - 57s 423ms/step - loss: 1.0612 - accuracy: 0.5738 - val_loss: 0.9883 - val_accuracy: 0.6048\n",
            "Epoch 3/5\n",
            "135/135 [==============================] - 57s 423ms/step - loss: 0.9453 - accuracy: 0.6331 - val_loss: 0.8854 - val_accuracy: 0.6650\n",
            "Epoch 4/5\n",
            "135/135 [==============================] - 56s 417ms/step - loss: 0.8574 - accuracy: 0.6741 - val_loss: 0.7479 - val_accuracy: 0.7262\n",
            "Epoch 5/5\n",
            "135/135 [==============================] - 56s 417ms/step - loss: 0.7802 - accuracy: 0.7033 - val_loss: 0.6583 - val_accuracy: 0.7616\n"
          ]
        },
        {
          "output_type": "execute_result",
          "data": {
            "text/plain": [
              "<keras.callbacks.History at 0x7f4d0fc50b50>"
            ]
          },
          "metadata": {},
          "execution_count": 108
        }
      ]
    },
    {
      "cell_type": "code",
      "source": [
        "model.save(\"flowers.h5\")"
      ],
      "metadata": {
        "id": "VWQ3ANmsJx9o"
      },
      "execution_count": null,
      "outputs": []
    },
    {
      "cell_type": "code",
      "source": [
        "from tensorflow.keras.models import load_model\n",
        "from tensorflow.keras.preprocessing import image\n",
        "import numpy as np"
      ],
      "metadata": {
        "id": "KfR8JQXjL9JV"
      },
      "execution_count": null,
      "outputs": []
    },
    {
      "cell_type": "code",
      "source": [
        "model = load_model(\"/content/drive/MyDrive/CNN/flowers.h5\")"
      ],
      "metadata": {
        "id": "DnQHGW5AMwjB"
      },
      "execution_count": null,
      "outputs": []
    },
    {
      "cell_type": "code",
      "source": [
        "img = image.load_img(\"/content/drive/MyDrive/CNN/flowers/daisy/10437770546_8bb6f7bdd3_m.jpg\",target_size=(64,64))"
      ],
      "metadata": {
        "id": "3ZiZG2yyNDrH"
      },
      "execution_count": null,
      "outputs": []
    },
    {
      "cell_type": "code",
      "source": [
        "img"
      ],
      "metadata": {
        "colab": {
          "base_uri": "https://localhost:8080/",
          "height": 81
        },
        "id": "9uIucP8gNwX6",
        "outputId": "c15581f8-8953-4432-8df3-42e015279cd8"
      },
      "execution_count": null,
      "outputs": [
        {
          "output_type": "execute_result",
          "data": {
            "text/plain": [
              "<PIL.Image.Image image mode=RGB size=64x64 at 0x7F4D0FAD6250>"
            ],
            "image/png": "[encoded data removed]"
          },
          "metadata": {},
          "execution_count": 154
        }
      ]
    },
    {
      "cell_type": "code",
      "source": [
        "x = image.img_to_array(img)"
      ],
      "metadata": {
        "id": "Z01vFz6iNyF3"
      },
      "execution_count": null,
      "outputs": []
    },
    {
      "cell_type": "code",
      "source": [
        "x"
      ],
      "metadata": {
        "colab": {
          "base_uri": "https://localhost:8080/"
        },
        "id": "DMvBr7EoO_EF",
        "outputId": "61356359-5718-4cee-8305-65e38f3a30f4"
      },
      "execution_count": null,
      "outputs": [
        {
          "output_type": "execute_result",
          "data": {
            "text/plain": [
              "array([[[ 66.,  75.,  84.],\n",
              "        [ 72.,  79.,  89.],\n",
              "        [ 74.,  81.,  89.],\n",
              "        ...,\n",
              "        [115., 136.,  79.],\n",
              "        [117., 125.,  74.],\n",
              "        [122., 130.,  81.]],\n",
              "\n",
              "       [[ 63.,  73.,  82.],\n",
              "        [ 70.,  80.,  89.],\n",
              "        [ 73.,  82.,  91.],\n",
              "        ...,\n",
              "        [108., 132.,  74.],\n",
              "        [118., 126.,  75.],\n",
              "        [121., 118.,  73.]],\n",
              "\n",
              "       [[ 58.,  67.,  76.],\n",
              "        [ 70.,  79.,  88.],\n",
              "        [ 75.,  85.,  94.],\n",
              "        ...,\n",
              "        [102., 134.,  71.],\n",
              "        [109., 129.,  68.],\n",
              "        [116., 119.,  72.]],\n",
              "\n",
              "       ...,\n",
              "\n",
              "       [[ 96., 137.,  79.],\n",
              "        [ 93., 132.,  75.],\n",
              "        [ 92., 131.,  74.],\n",
              "        ...,\n",
              "        [ 95., 127., 103.],\n",
              "        [ 84., 112.,  90.],\n",
              "        [ 65.,  84.,  78.]],\n",
              "\n",
              "       [[ 95., 136.,  78.],\n",
              "        [ 91., 130.,  73.],\n",
              "        [ 89., 128.,  71.],\n",
              "        ...,\n",
              "        [ 94., 129.,  99.],\n",
              "        [ 94., 124.,  98.],\n",
              "        [ 79.,  97.,  85.]],\n",
              "\n",
              "       [[ 93., 134.,  76.],\n",
              "        [ 92., 131.,  74.],\n",
              "        [ 87., 126.,  71.],\n",
              "        ...,\n",
              "        [ 81., 110.,  82.],\n",
              "        [ 85., 113.,  91.],\n",
              "        [ 75.,  90.,  85.]]], dtype=float32)"
            ]
          },
          "metadata": {},
          "execution_count": 138
        }
      ]
    },
    {
      "cell_type": "code",
      "source": [
        "x.ndim"
      ],
      "metadata": {
        "colab": {
          "base_uri": "https://localhost:8080/"
        },
        "id": "2EKPHOJBPAEE",
        "outputId": "3e2c49ed-9f73-42d1-c00e-fcf37f4d184e"
      },
      "execution_count": null,
      "outputs": [
        {
          "output_type": "execute_result",
          "data": {
            "text/plain": [
              "3"
            ]
          },
          "metadata": {},
          "execution_count": 156
        }
      ]
    },
    {
      "cell_type": "code",
      "source": [
        "x = np.expand_dims(x,axis=0)"
      ],
      "metadata": {
        "id": "FacHx-yVQIsy"
      },
      "execution_count": null,
      "outputs": []
    },
    {
      "cell_type": "code",
      "source": [
        "x.ndim"
      ],
      "metadata": {
        "colab": {
          "base_uri": "https://localhost:8080/"
        },
        "id": "S0CzrO-8Q1Gv",
        "outputId": "fc4b5c45-424e-4403-cb4f-949dba84c8c1"
      },
      "execution_count": null,
      "outputs": [
        {
          "output_type": "execute_result",
          "data": {
            "text/plain": [
              "4"
            ]
          },
          "metadata": {},
          "execution_count": 158
        }
      ]
    },
    {
      "cell_type": "code",
      "source": [
        "pred = model.predict(x)"
      ],
      "metadata": {
        "id": "-zj3Ly_6Q3zm"
      },
      "execution_count": null,
      "outputs": []
    },
    {
      "cell_type": "code",
      "source": [
        "pred"
      ],
      "metadata": {
        "colab": {
          "base_uri": "https://localhost:8080/"
        },
        "id": "VUDZifj2RoYH",
        "outputId": "bb4d6693-24da-44e9-ee54-7147ce6ee7ba"
      },
      "execution_count": null,
      "outputs": [
        {
          "output_type": "execute_result",
          "data": {
            "text/plain": [
              "array([[1., 0., 0., 0., 0.]], dtype=float32)"
            ]
          },
          "metadata": {},
          "execution_count": 160
        }
      ]
    },
    {
      "cell_type": "code",
      "source": [
        "labels=(\"daisy\",\"dandellion\",\"rose\",\"sunflower\",\"tulip\")"
      ],
      "metadata": {
        "id": "XNZkKcJ6RqTD"
      },
      "execution_count": null,
      "outputs": []
    },
    {
      "cell_type": "code",
      "source": [
        "np.argmax(pred)"
      ],
      "metadata": {
        "colab": {
          "base_uri": "https://localhost:8080/"
        },
        "id": "falg3pZk-khC",
        "outputId": "a5420bc8-fde4-4bd3-d1e4-79444e208f0d"
      },
      "execution_count": null,
      "outputs": [
        {
          "output_type": "execute_result",
          "data": {
            "text/plain": [
              "0"
            ]
          },
          "metadata": {},
          "execution_count": 162
        }
      ]
    },
    {
      "cell_type": "code",
      "source": [
        "labels[np.argmax(pred)]"
      ],
      "metadata": {
        "colab": {
          "base_uri": "https://localhost:8080/",
          "height": 36
        },
        "id": "t_fBuzkV_Bvy",
        "outputId": "22d3a586-272f-4c9d-e8a6-707f52bda298"
      },
      "execution_count": null,
      "outputs": [
        {
          "output_type": "execute_result",
          "data": {
            "text/plain": [
              "'daisy'"
            ],
            "application/vnd.google.colaboratory.intrinsic+json": {
              "type": "string"
            }
          },
          "metadata": {},
          "execution_count": 163
        }
      ]
    }
  ]
}