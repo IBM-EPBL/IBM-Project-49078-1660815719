{
  "nbformat": 4,
  "nbformat_minor": 0,
  "metadata": {
    "colab": {
      "provenance": []
    },
    "kernelspec": {
      "name": "python3",
      "display_name": "Python 3"
    },
    "language_info": {
      "name": "python"
    }
  },
  "cells": [
    {
      "cell_type": "code",
      "source": [
        "from google.colab import drive\n",
        "drive.mount('/content/drive')"
      ],
      "metadata": {
        "colab": {
          "base_uri": "https://localhost:8080/"
        },
        "id": "rQ03e2ia-rGP",
        "outputId": "c3342153-8f30-4d83-d2a8-67f2f8196aad"
      },
      "execution_count": null,
      "outputs": [
        {
          "output_type": "stream",
          "name": "stdout",
          "text": [
            "Mounted at /content/drive\n"
          ]
        }
      ]
    },
    {
      "cell_type": "code",
      "execution_count": 3,
      "metadata": {
        "id": "lN9mwGYo8X5r"
      },
      "outputs": [],
      "source": [
        "import pandas as pd\n",
        "import numpy as np\n",
        "import seaborn as sns\n",
        "from matplotlib import pyplot as plt\n",
        "%matplotlib inline"
      ]
    },
    {
      "cell_type": "markdown",
      "source": [
        "LOAD DATASET"
      ],
      "metadata": {
        "id": "HYcsJzWPE2Qk"
      }
    },
    {
      "cell_type": "code",
      "source": [
        "data = pd.read_csv('/content/drive/MyDrive/Classroom/Assignment/Copy of Churn_Modelling.csv')"
      ],
      "metadata": {
        "id": "DY1inU6WFC5s"
      },
      "execution_count": 8,
      "outputs": []
    },
    {
      "cell_type": "markdown",
      "source": [
        "PERFORM VISUALIZATION"
      ],
      "metadata": {
        "id": "PPapf7P1FwQ6"
      }
    },
    {
      "cell_type": "markdown",
      "source": [
        "Univariate analysis"
      ],
      "metadata": {
        "id": "6stsr-2DGjCm"
      }
    },
    {
      "cell_type": "code",
      "source": [
        "sns.displot(data, x=\"CreditScore\")\n",
        "sns.displot(data, x=\"Age\")\n",
        "sns.displot(data, x=\"Tenure\")\n",
        "sns.displot(data, x=\"Balance\")\n",
        "sns.displot(data, x=\"NumOfProducts\")\n",
        "sns.displot(data, x=\"EstimatedSalary\")"
      ],
      "metadata": {
        "id": "zl7-jwsFGsfa"
      },
      "execution_count": null,
      "outputs": []
    },
    {
      "cell_type": "markdown",
      "source": [
        "Bivariate analysis"
      ],
      "metadata": {
        "id": "f9S_MTRsHC-U"
      }
    },
    {
      "cell_type": "code",
      "source": [
        "sns.scatterplot(data=[data['CreditScore'],data['Age']])"
      ],
      "metadata": {
        "id": "GQf25fi2HQ9w"
      },
      "execution_count": null,
      "outputs": []
    },
    {
      "cell_type": "code",
      "source": [
        "sns.scatterplot(data=[data['Balance'],data['EstimatedSalary']])"
      ],
      "metadata": {
        "id": "4UOxSNeSHZJk"
      },
      "execution_count": null,
      "outputs": []
    },
    {
      "cell_type": "markdown",
      "source": [
        "Multivariate analysis"
      ],
      "metadata": {
        "id": "y8PqnQcJHdrj"
      }
    },
    {
      "cell_type": "code",
      "source": [
        "sns.pairplot(data=data)"
      ],
      "metadata": {
        "colab": {
          "base_uri": "https://localhost:8080/"
        },
        "id": "achBBzbZHlUn",
        "outputId": "60784733-2e6b-4518-e9c8-36ade7447a64"
      },
      "execution_count": 13,
      "outputs": [
        {
          "output_type": "execute_result",
          "data": {
            "text/plain": [
              "<seaborn.axisgrid.PairGrid at 0x7fe70fae8f90>"
            ]
          },
          "metadata": {},
          "execution_count": 13
        }
      ]
    },
    {
      "cell_type": "markdown",
      "source": [
        "DESCRIPTIVE STATISTICS"
      ],
      "metadata": {
        "id": "sNpDVTuZIZ04"
      }
    },
    {
      "cell_type": "code",
      "source": [
        "data.describe()"
      ],
      "metadata": {
        "id": "CjgrTLTKIbxP"
      },
      "execution_count": null,
      "outputs": []
    },
    {
      "cell_type": "markdown",
      "source": [
        "HANDLE THE MISSING VALUES"
      ],
      "metadata": {
        "id": "8CQQFArbIqCf"
      }
    },
    {
      "cell_type": "code",
      "source": [
        "data.isnull().sum() "
      ],
      "metadata": {
        "id": "ipQ4bDCfIy4d"
      },
      "execution_count": null,
      "outputs": []
    },
    {
      "cell_type": "code",
      "source": [
        "# NO MISSING VALUES"
      ],
      "metadata": {
        "id": "LhWCwJV-I8x3"
      },
      "execution_count": 16,
      "outputs": []
    },
    {
      "cell_type": "markdown",
      "source": [
        "FINDING OUTLIERS"
      ],
      "metadata": {
        "id": "RMyUKCKGJDHG"
      }
    },
    {
      "cell_type": "code",
      "source": [
        "sns.boxplot(data['CreditScore'])"
      ],
      "metadata": {
        "id": "2jKCy_LuJLWV"
      },
      "execution_count": null,
      "outputs": []
    },
    {
      "cell_type": "code",
      "source": [
        "sns.boxplot(data['Age'])"
      ],
      "metadata": {
        "id": "VFD_4TFsJTYt"
      },
      "execution_count": null,
      "outputs": []
    },
    {
      "cell_type": "code",
      "source": [
        "sns.boxplot(data['Tenure'])"
      ],
      "metadata": {
        "id": "XeEwkdlMJYs9"
      },
      "execution_count": null,
      "outputs": []
    },
    {
      "cell_type": "code",
      "source": [
        "sns.boxplot(data['Balance'])"
      ],
      "metadata": {
        "id": "Tk2fVMKVJeJz"
      },
      "execution_count": null,
      "outputs": []
    },
    {
      "cell_type": "code",
      "source": [
        "sns.boxplot(data['NumOfProducts'])"
      ],
      "metadata": {
        "id": "mhnu7RifJjsm"
      },
      "execution_count": null,
      "outputs": []
    },
    {
      "cell_type": "code",
      "source": [
        "sns.boxplot(data['EstimatedSalary'])"
      ],
      "metadata": {
        "id": "M5wdr00zJwws"
      },
      "execution_count": null,
      "outputs": []
    },
    {
      "cell_type": "markdown",
      "source": [
        "REPLACING THE OUTLIERS"
      ],
      "metadata": {
        "id": "gybQf3lkJ27e"
      }
    },
    {
      "cell_type": "code",
      "source": [
        "# upper extreme = q3+1.5*IQR\n",
        "# lower extreme = q1-1.5*IQR\n",
        "# IQR = q3-q1\n",
        "qnt = data.quantile(q = [0.25,0.75])\n",
        "IQR = qnt.loc[0.75] - qnt.loc[0.25]\n",
        "upper_extreme = qnt.loc[0.75]+1.5*IQR\n",
        "lower_extreme = qnt.loc[0.25]-1.5*IQR"
      ],
      "metadata": {
        "id": "XJSIRmTfJ9HE"
      },
      "execution_count": 23,
      "outputs": []
    },
    {
      "cell_type": "code",
      "source": [
        "data['CreditScore']=np.where(data['CreditScore']>upper_extreme['CreditScore'],data['CreditScore'].mean(),data['CreditScore'])\n",
        "data['CreditScore']=np.where(data['CreditScore']<lower_extreme['CreditScore'],data['CreditScore'].mean(),data['CreditScore'])"
      ],
      "metadata": {
        "id": "h74H6BPsKGXr"
      },
      "execution_count": 24,
      "outputs": []
    },
    {
      "cell_type": "code",
      "source": [
        "data['Age']=np.where(data['Age']>upper_extreme['Age'],data['Age'].mean(),data['Age'])\n",
        "data['Age']=np.where(data['Age']<lower_extreme['Age'],data['Age'].mean(),data['Age'])"
      ],
      "metadata": {
        "id": "cbv8mHGRKOJi"
      },
      "execution_count": 25,
      "outputs": []
    },
    {
      "cell_type": "code",
      "source": [
        "data['NumOfProducts']=np.where(data['NumOfProducts']>upper_extreme['NumOfProducts'],data['NumOfProducts'].mean(),data['NumOfProducts'])\n",
        "data['NumOfProducts']=np.where(data['NumOfProducts']<lower_extreme['NumOfProducts'],data['NumOfProducts'].mean(),data['NumOfProducts'])"
      ],
      "metadata": {
        "id": "sbWuRTgHKUJT"
      },
      "execution_count": 26,
      "outputs": []
    },
    {
      "cell_type": "markdown",
      "source": [
        "CHECKING CATEGORICAL COLUMNS AND TO PERFORM ENCODING"
      ],
      "metadata": {
        "id": "ugs0ZbxvKiTx"
      }
    },
    {
      "cell_type": "code",
      "source": [
        "from sklearn.preprocessing import LabelEncoder\n",
        "le = LabelEncoder()\n",
        "# creating instance of labelencoder\n",
        "labelencoder = LabelEncoder()\n",
        "data.Geography = le.fit_transform(data.Geography)\n",
        "data.Gender = le.fit_transform(data.Gender)\n",
        "data.head(8)"
      ],
      "metadata": {
        "id": "N9KgOlkDKlgn"
      },
      "execution_count": null,
      "outputs": []
    },
    {
      "cell_type": "markdown",
      "source": [
        "DEPENDENT AND INDEPENDENT VARIABLES"
      ],
      "metadata": {
        "id": "WSuusVg9Kvoo"
      }
    },
    {
      "cell_type": "code",
      "source": [
        "y = data['EstimatedSalary']\n",
        "X = data.drop(columns=['RowNumber','CustomerId','Surname','EstimatedSalary'])"
      ],
      "metadata": {
        "id": "eAK501R3KxHP"
      },
      "execution_count": 28,
      "outputs": []
    },
    {
      "cell_type": "code",
      "source": [
        "X"
      ],
      "metadata": {
        "id": "Qi2YpAiJK5AY"
      },
      "execution_count": null,
      "outputs": []
    },
    {
      "cell_type": "code",
      "source": [
        "y"
      ],
      "metadata": {
        "id": "BzF1pheoK_iT"
      },
      "execution_count": null,
      "outputs": []
    },
    {
      "cell_type": "markdown",
      "source": [
        "SCALING THE INDEPENDENT VARIABLES"
      ],
      "metadata": {
        "id": "I80WhjF4LF4w"
      }
    },
    {
      "cell_type": "code",
      "source": [
        "from sklearn.preprocessing import scale\n",
        "names = X.columns\n",
        "X = scale(X)\n",
        "X = pd.DataFrame(X,columns=names)"
      ],
      "metadata": {
        "id": "PYcBoC6-LHDZ"
      },
      "execution_count": 33,
      "outputs": []
    },
    {
      "cell_type": "code",
      "source": [
        "X.head()"
      ],
      "metadata": {
        "id": "s_Gk9Rj2LOVX"
      },
      "execution_count": null,
      "outputs": []
    },
    {
      "cell_type": "markdown",
      "source": [
        "SPLIT THE DATA INTO TESTING AND TRAINING"
      ],
      "metadata": {
        "id": "_sax1yXNLTNn"
      }
    },
    {
      "cell_type": "code",
      "source": [
        "from sklearn.linear_model import LinearRegression\n",
        "from sklearn.model_selection import train_test_split\n",
        "X_train, X_test, y_train, y_test = train_test_split(X, y, test_size=0.02, random_state=0)"
      ],
      "metadata": {
        "id": "8DIKmz9gLUKG"
      },
      "execution_count": 35,
      "outputs": []
    },
    {
      "cell_type": "code",
      "source": [
        "X_train"
      ],
      "metadata": {
        "id": "rjtrVlUQLcyX"
      },
      "execution_count": null,
      "outputs": []
    },
    {
      "cell_type": "code",
      "source": [
        "y_train"
      ],
      "metadata": {
        "id": "YAeMylC6LhtA"
      },
      "execution_count": null,
      "outputs": []
    }
  ]
}