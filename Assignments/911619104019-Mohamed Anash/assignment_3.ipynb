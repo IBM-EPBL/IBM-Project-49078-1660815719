{
  "nbformat": 4,
  "nbformat_minor": 0,
  "metadata": {
    "colab": {
      "provenance": [],
      "collapsed_sections": []
    },
    "kernelspec": {
      "name": "python3",
      "display_name": "Python 3"
    },
    "language_info": {
      "name": "python"
    }
  },
  "cells": [
    {
      "cell_type": "code",
      "execution_count": 1,
      "metadata": {
        "colab": {
          "base_uri": "https://localhost:8080/"
        },
        "id": "WypWnIGgsnLU",
        "outputId": "44a77d8c-c31b-4597-ca7c-4d78c166aee0"
      },
      "outputs": [
        {
          "output_type": "stream",
          "name": "stdout",
          "text": [
            "\u001b[0m\u001b[01;34mdrive\u001b[0m/  \u001b[01;34msample_data\u001b[0m/\n"
          ]
        }
      ],
      "source": [
        "ls"
      ]
    },
    {
      "cell_type": "code",
      "source": [
        "cd /content/drive/MyDrive/CNN"
      ],
      "metadata": {
        "colab": {
          "base_uri": "https://localhost:8080/"
        },
        "id": "9pF08Hprs3mB",
        "outputId": "eed9518a-f274-441f-c149-74b06005089c"
      },
      "execution_count": 2,
      "outputs": [
        {
          "output_type": "stream",
          "name": "stdout",
          "text": [
            "/content/drive/MyDrive/CNN\n"
          ]
        }
      ]
    },
    {
      "cell_type": "code",
      "source": [
        "!unzip Flowers-Dataset.zip"
      ],
      "metadata": {
        "colab": {
          "base_uri": "https://localhost:8080/"
        },
        "id": "yC44-mhTtKpQ",
        "outputId": "727873ca-bab9-400d-aa3d-950999ecf127"
      },
      "execution_count": 3,
      "outputs": [
        {
          "output_type": "stream",
          "name": "stdout",
          "text": [
            "Archive:  Flowers-Dataset.zip\n",
            "replace flowers/daisy/100080576_f52e8ee070_n.jpg? [y]es, [n]o, [A]ll, [N]one, [r]ename: "
          ]
        }
      ]
    },
    {
      "cell_type": "code",
      "source": [
        "from tensorflow.keras.preprocessing.image import ImageDataGenerator"
      ],
      "metadata": {
        "id": "v2s7xG-ItSWv"
      },
      "execution_count": 4,
      "outputs": []
    },
    {
      "cell_type": "code",
      "source": [
        "train_gen=ImageDataGenerator(rescale=1./255,horizontal_flip=True,vertical_flip=True,zoom_range=0.2)"
      ],
      "metadata": {
        "id": "irKGQVuixNQk"
      },
      "execution_count": 5,
      "outputs": []
    },
    {
      "cell_type": "code",
      "source": [
        "test_gen=ImageDataGenerator(rescale=1./255)"
      ],
      "metadata": {
        "id": "fJWEo3lOy0_B"
      },
      "execution_count": 6,
      "outputs": []
    },
    {
      "cell_type": "code",
      "source": [
        "x_train=train_gen.flow_from_directory(r'/content/drive/MyDrive/CNN/flowers',target_size=(64,64),class_mode=\"categorical\",batch_size=24)"
      ],
      "metadata": {
        "colab": {
          "base_uri": "https://localhost:8080/"
        },
        "id": "Dl1LGB94y_PI",
        "outputId": "fe52f575-d38c-42e8-c9e9-30cda6b1c6de"
      },
      "execution_count": 7,
      "outputs": [
        {
          "output_type": "stream",
          "name": "stdout",
          "text": [
            "Found 4317 images belonging to 5 classes.\n"
          ]
        }
      ]
    },
    {
      "cell_type": "code",
      "source": [
        "x_test=test_gen.flow_from_directory(r'/content/drive/MyDrive/CNN/flowers',target_size=(64,64),class_mode=\"categorical\",batch_size=24)"
      ],
      "metadata": {
        "colab": {
          "base_uri": "https://localhost:8080/"
        },
        "id": "bn08zIzVz7EW",
        "outputId": "ceabd9a4-a9b4-47db-c8f9-8a4885d9153d"
      },
      "execution_count": 8,
      "outputs": [
        {
          "output_type": "stream",
          "name": "stdout",
          "text": [
            "Found 4317 images belonging to 5 classes.\n"
          ]
        }
      ]
    },
    {
      "cell_type": "code",
      "source": [
        "from tensorflow.keras.models import Sequential\n",
        "from tensorflow.keras.layers import Convolution2D, MaxPooling2D,Flatten,Dense"
      ],
      "metadata": {
        "id": "aV58TW9T0G06"
      },
      "execution_count": 9,
      "outputs": []
    },
    {
      "cell_type": "code",
      "source": [
        "model=Sequential()"
      ],
      "metadata": {
        "id": "M4kAmr9j0qFJ"
      },
      "execution_count": 10,
      "outputs": []
    },
    {
      "cell_type": "code",
      "source": [
        "model.add(Convolution2D(32,(3,3),activation=\"relu\",input_shape=(64,64,3)))"
      ],
      "metadata": {
        "id": "sHzE7PfD0vfI"
      },
      "execution_count": 11,
      "outputs": []
    },
    {
      "cell_type": "code",
      "source": [
        "model.add(MaxPooling2D(pool_size=(2,2)))"
      ],
      "metadata": {
        "id": "uRX1cHXo1GSX"
      },
      "execution_count": 12,
      "outputs": []
    },
    {
      "cell_type": "code",
      "source": [
        "model.add(Flatten())"
      ],
      "metadata": {
        "id": "mRYmgcB71USF"
      },
      "execution_count": 13,
      "outputs": []
    },
    {
      "cell_type": "code",
      "source": [
        "model.add(Dense(300,activation=\"relu\"))"
      ],
      "metadata": {
        "id": "sGgabrnM1e5V"
      },
      "execution_count": 14,
      "outputs": []
    },
    {
      "cell_type": "code",
      "source": [
        "model.add(Dense(300,activation=\"relu\"))"
      ],
      "metadata": {
        "id": "Qr8ekxmB1rCF"
      },
      "execution_count": 15,
      "outputs": []
    },
    {
      "cell_type": "code",
      "source": [
        "model.add(Dense(300,activation=\"relu\"))"
      ],
      "metadata": {
        "id": "6DdL4AFQ9nEs"
      },
      "execution_count": 16,
      "outputs": []
    },
    {
      "cell_type": "code",
      "source": [
        "model.add(Dense(5,activation=\"softmax\"))"
      ],
      "metadata": {
        "id": "Lh2KicEg1un1"
      },
      "execution_count": 17,
      "outputs": []
    },
    {
      "cell_type": "code",
      "source": [
        "model.compile(loss=\"categorical_crossentropy\",metrics=[\"accuracy\"],optimizer=\"adam\")"
      ],
      "metadata": {
        "id": "yL0_Qyhw13dU"
      },
      "execution_count": 18,
      "outputs": []
    },
    {
      "cell_type": "code",
      "source": [
        "model.fit(x_train,epochs=7,validation_data=x_test,steps_per_epoch=len(x_train),validation_steps=len(x_test))"
      ],
      "metadata": {
        "colab": {
          "base_uri": "https://localhost:8080/"
        },
        "id": "DR_olpfj2RSD",
        "outputId": "c9c242f1-e88c-42a8-c9af-7217ab6fbb62"
      },
      "execution_count": 19,
      "outputs": [
        {
          "output_type": "stream",
          "name": "stdout",
          "text": [
            "Epoch 1/7\n",
            "180/180 [==============================] - 73s 399ms/step - loss: 1.3134 - accuracy: 0.4438 - val_loss: 1.1595 - val_accuracy: 0.5288\n",
            "Epoch 2/7\n",
            "180/180 [==============================] - 69s 382ms/step - loss: 1.0615 - accuracy: 0.5840 - val_loss: 0.9863 - val_accuracy: 0.6159\n",
            "Epoch 3/7\n",
            "180/180 [==============================] - 73s 402ms/step - loss: 0.9676 - accuracy: 0.6210 - val_loss: 0.9114 - val_accuracy: 0.6461\n",
            "Epoch 4/7\n",
            "180/180 [==============================] - 70s 387ms/step - loss: 0.9333 - accuracy: 0.6291 - val_loss: 0.8552 - val_accuracy: 0.6602\n",
            "Epoch 5/7\n",
            "180/180 [==============================] - 71s 397ms/step - loss: 0.9048 - accuracy: 0.6477 - val_loss: 0.8689 - val_accuracy: 0.6618\n",
            "Epoch 6/7\n",
            "180/180 [==============================] - 69s 384ms/step - loss: 0.8575 - accuracy: 0.6697 - val_loss: 0.9023 - val_accuracy: 0.6602\n",
            "Epoch 7/7\n",
            "180/180 [==============================] - 69s 384ms/step - loss: 0.8365 - accuracy: 0.6722 - val_loss: 0.8078 - val_accuracy: 0.6898\n"
          ]
        },
        {
          "output_type": "execute_result",
          "data": {
            "text/plain": [
              "<keras.callbacks.History at 0x7f1410718190>"
            ]
          },
          "metadata": {},
          "execution_count": 19
        }
      ]
    },
    {
      "cell_type": "code",
      "source": [
        "model.save(\"flowersmodel.h5\")"
      ],
      "metadata": {
        "id": "LwUsmGMN2vQC"
      },
      "execution_count": 20,
      "outputs": []
    },
    {
      "cell_type": "code",
      "source": [
        "from tensorflow.keras.models import load_model\n",
        "from tensorflow.keras.preprocessing import image\n",
        "import numpy as np"
      ],
      "metadata": {
        "id": "xsbtJqQr2_nK"
      },
      "execution_count": 21,
      "outputs": []
    },
    {
      "cell_type": "code",
      "source": [
        "model=load_model(\"/content/drive/MyDrive/CNN/flowersmodel.h5\")"
      ],
      "metadata": {
        "id": "_mM7m5BW3b2i"
      },
      "execution_count": 22,
      "outputs": []
    },
    {
      "cell_type": "code",
      "source": [
        "img=image.load_img(\"/content/drive/MyDrive/CNN/rose.jpeg\",target_size=(64,64))"
      ],
      "metadata": {
        "id": "u7h7u5Np3uja"
      },
      "execution_count": 23,
      "outputs": []
    },
    {
      "cell_type": "code",
      "source": [
        "x=image.img_to_array(img)"
      ],
      "metadata": {
        "id": "ya9Pr6B83y_P"
      },
      "execution_count": 24,
      "outputs": []
    },
    {
      "cell_type": "code",
      "source": [
        "x=np.expand_dims(x,axis=0)"
      ],
      "metadata": {
        "id": "8jlL8WBj4Sko"
      },
      "execution_count": 25,
      "outputs": []
    },
    {
      "cell_type": "code",
      "source": [
        "pred=model.predict(x)"
      ],
      "metadata": {
        "id": "Lt-yRzLC4gju"
      },
      "execution_count": 26,
      "outputs": []
    },
    {
      "cell_type": "code",
      "source": [
        "pred"
      ],
      "metadata": {
        "colab": {
          "base_uri": "https://localhost:8080/"
        },
        "id": "HSPIWKG34pQF",
        "outputId": "1541c8d4-6e78-4c0e-d6b4-73efb6e028dc"
      },
      "execution_count": 27,
      "outputs": [
        {
          "output_type": "execute_result",
          "data": {
            "text/plain": [
              "array([[0., 0., 1., 0., 0.]], dtype=float32)"
            ]
          },
          "metadata": {},
          "execution_count": 27
        }
      ]
    },
    {
      "cell_type": "code",
      "source": [
        "label=[\"daisy\",\"dandelion\",\"rose\",\"sunflower\",\"tulip\"]"
      ],
      "metadata": {
        "id": "QuMyulk84rMl"
      },
      "execution_count": 28,
      "outputs": []
    },
    {
      "cell_type": "code",
      "source": [
        "label[np.argmax(pred)]"
      ],
      "metadata": {
        "colab": {
          "base_uri": "https://localhost:8080/",
          "height": 35
        },
        "id": "qbSRFlhu48_9",
        "outputId": "850a8812-c513-417c-a991-b7ecc6232c9c"
      },
      "execution_count": 29,
      "outputs": [
        {
          "output_type": "execute_result",
          "data": {
            "text/plain": [
              "'rose'"
            ],
            "application/vnd.google.colaboratory.intrinsic+json": {
              "type": "string"
            }
          },
          "metadata": {},
          "execution_count": 29
        }
      ]
    }
  ]
}