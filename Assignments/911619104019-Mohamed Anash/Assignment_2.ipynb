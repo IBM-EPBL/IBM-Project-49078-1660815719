{
  "nbformat": 4,
  "nbformat_minor": 0,
  "metadata": {
    "colab": {
      "private_outputs": true,
      "provenance": []
    },
    "kernelspec": {
      "name": "python3",
      "display_name": "Python 3"
    },
    "language_info": {
      "name": "python"
    }
  },
  "cells": [
    {
      "cell_type": "code",
      "execution_count": null,
      "metadata": {
        "id": "jW9cRmHNyyV1"
      },
      "outputs": [],
      "source": [
        "import pandas as pd\n",
        "import numpy as np\n",
        "import seaborn as sns\n",
        "from matplotlib import pyplot as plt\n",
        "%matplotlib inline"
      ]
    },
    {
      "cell_type": "markdown",
      "source": [
        "LOAD DATASET"
      ],
      "metadata": {
        "id": "aCxTCncNBNBc"
      }
    },
    {
      "cell_type": "code",
      "source": [
        "data = pd.read_csv(\"/content/drive/MyDrive/Assignment 2/Assignment-2/Churn_Modelling.csv\")"
      ],
      "metadata": {
        "id": "6OWse0sM6trQ"
      },
      "execution_count": null,
      "outputs": []
    },
    {
      "cell_type": "markdown",
      "source": [
        "PERFORM VISUALIZATION"
      ],
      "metadata": {
        "id": "MK6D0Fq_Ba2N"
      }
    },
    {
      "cell_type": "markdown",
      "source": [
        "Univariate analysis"
      ],
      "metadata": {
        "id": "ihMhZwTFBiCk"
      }
    },
    {
      "cell_type": "code",
      "source": [
        "sns.displot(data, x=\"CreditScore\")\n",
        "sns.displot(data, x=\"Age\")\n",
        "sns.displot(data, x=\"Tenure\")\n",
        "sns.displot(data, x=\"Balance\")\n",
        "sns.displot(data, x=\"NumOfProducts\")\n",
        "sns.displot(data, x=\"EstimatedSalary\")"
      ],
      "metadata": {
        "id": "_HLmOWW6eB5E"
      },
      "execution_count": null,
      "outputs": []
    },
    {
      "cell_type": "markdown",
      "source": [
        "Bivariate analysis"
      ],
      "metadata": {
        "id": "N0KpOvPbBwJS"
      }
    },
    {
      "cell_type": "code",
      "source": [
        "sns.scatterplot(data=[data['CreditScore'],data['Age']])"
      ],
      "metadata": {
        "id": "U0r6aBElna1p"
      },
      "execution_count": null,
      "outputs": []
    },
    {
      "cell_type": "code",
      "source": [
        "sns.scatterplot(data=[data['Balance'],data['EstimatedSalary']])"
      ],
      "metadata": {
        "id": "tm6Bs_wBN3AQ"
      },
      "execution_count": null,
      "outputs": []
    },
    {
      "cell_type": "markdown",
      "source": [
        "Multivariate analysis"
      ],
      "metadata": {
        "id": "WMsVClMCCB-P"
      }
    },
    {
      "cell_type": "code",
      "source": [
        "sns.pairplot(data=data)"
      ],
      "metadata": {
        "id": "ma7UgHuEPX-S"
      },
      "execution_count": null,
      "outputs": []
    },
    {
      "cell_type": "markdown",
      "source": [
        "DESCRIPTIVE STATISTICS"
      ],
      "metadata": {
        "id": "JniGbNoTCNJR"
      }
    },
    {
      "cell_type": "code",
      "source": [
        "data.describe()"
      ],
      "metadata": {
        "id": "JudAQ8nmS5rh"
      },
      "execution_count": null,
      "outputs": []
    },
    {
      "cell_type": "markdown",
      "source": [
        "HANDLE THE MISSING VALUES"
      ],
      "metadata": {
        "id": "XWclRAN1Ch4Z"
      }
    },
    {
      "cell_type": "code",
      "source": [
        "data.isnull().sum() "
      ],
      "metadata": {
        "id": "zCy-Jny-7taH"
      },
      "execution_count": null,
      "outputs": []
    },
    {
      "cell_type": "code",
      "source": [
        "# NO MISSING VALUES"
      ],
      "metadata": {
        "id": "Egkh4UQvCwmU"
      },
      "execution_count": null,
      "outputs": []
    },
    {
      "cell_type": "markdown",
      "source": [
        "FINDING OUTLIERS"
      ],
      "metadata": {
        "id": "2d-iJWc4C3iK"
      }
    },
    {
      "cell_type": "code",
      "source": [
        "sns.boxplot(data['CreditScore'])"
      ],
      "metadata": {
        "id": "V09BGITiZG7t"
      },
      "execution_count": null,
      "outputs": []
    },
    {
      "cell_type": "code",
      "source": [
        "sns.boxplot(data['Age'])"
      ],
      "metadata": {
        "id": "lD_DJyblRq4S"
      },
      "execution_count": null,
      "outputs": []
    },
    {
      "cell_type": "code",
      "source": [
        "sns.boxplot(data['Tenure'])"
      ],
      "metadata": {
        "id": "aE3KmlOoR7e5"
      },
      "execution_count": null,
      "outputs": []
    },
    {
      "cell_type": "code",
      "source": [
        "sns.boxplot(data['Balance'])"
      ],
      "metadata": {
        "id": "SYvLr4x_SEDQ"
      },
      "execution_count": null,
      "outputs": []
    },
    {
      "cell_type": "code",
      "source": [
        "sns.boxplot(data['NumOfProducts'])"
      ],
      "metadata": {
        "id": "5Nqmw5xuSs7u"
      },
      "execution_count": null,
      "outputs": []
    },
    {
      "cell_type": "code",
      "source": [
        "sns.boxplot(data['EstimatedSalary'])"
      ],
      "metadata": {
        "id": "FTDvB8vcS71d"
      },
      "execution_count": null,
      "outputs": []
    },
    {
      "cell_type": "markdown",
      "source": [
        "REPLACING THE OUTLIERS"
      ],
      "metadata": {
        "id": "NsNmCMX-DIrQ"
      }
    },
    {
      "cell_type": "code",
      "source": [
        "# upper extreme = q3+1.5*IQR\n",
        "# lower extreme = q1-1.5*IQR\n",
        "# IQR = q3-q1\n",
        "qnt = data.quantile(q = [0.25,0.75])\n",
        "IQR = qnt.loc[0.75] - qnt.loc[0.25]\n",
        "upper_extreme = qnt.loc[0.75]+1.5*IQR\n",
        "lower_extreme = qnt.loc[0.25]-1.5*IQR"
      ],
      "metadata": {
        "id": "85HLBb67JZ8m"
      },
      "execution_count": null,
      "outputs": []
    },
    {
      "cell_type": "code",
      "source": [
        "data['CreditScore']=np.where(data['CreditScore']>upper_extreme['CreditScore'],data['CreditScore'].mean(),data['CreditScore'])\n",
        "data['CreditScore']=np.where(data['CreditScore']<lower_extreme['CreditScore'],data['CreditScore'].mean(),data['CreditScore'])"
      ],
      "metadata": {
        "id": "x1IdWVhdcz-I"
      },
      "execution_count": null,
      "outputs": []
    },
    {
      "cell_type": "code",
      "source": [
        "data['Age']=np.where(data['Age']>upper_extreme['Age'],data['Age'].mean(),data['Age'])\n",
        "data['Age']=np.where(data['Age']<lower_extreme['Age'],data['Age'].mean(),data['Age'])"
      ],
      "metadata": {
        "id": "T_iQqYNjXvY1"
      },
      "execution_count": null,
      "outputs": []
    },
    {
      "cell_type": "code",
      "source": [
        "data['NumOfProducts']=np.where(data['NumOfProducts']>upper_extreme['NumOfProducts'],data['NumOfProducts'].mean(),data['NumOfProducts'])\n",
        "data['NumOfProducts']=np.where(data['NumOfProducts']<lower_extreme['NumOfProducts'],data['NumOfProducts'].mean(),data['NumOfProducts'])"
      ],
      "metadata": {
        "id": "CIF081lbYQTS"
      },
      "execution_count": null,
      "outputs": []
    },
    {
      "cell_type": "markdown",
      "source": [
        "CHECKING CATEGORICAL COLUMNS AND TO PERFORM ENCODING"
      ],
      "metadata": {
        "id": "3Qp-IkkGDPY7"
      }
    },
    {
      "cell_type": "code",
      "source": [
        "from sklearn.preprocessing import LabelEncoder\n",
        "le = LabelEncoder()\n",
        "# creating instance of labelencoder\n",
        "labelencoder = LabelEncoder()\n",
        "data.Geography = le.fit_transform(data.Geography)\n",
        "data.Gender = le.fit_transform(data.Gender)\n",
        "data.head(8)"
      ],
      "metadata": {
        "id": "ctnRrBWnsZT3"
      },
      "execution_count": null,
      "outputs": []
    },
    {
      "cell_type": "markdown",
      "source": [
        "DEPENDENT AND INDEPENDENT VARIABLES"
      ],
      "metadata": {
        "id": "-ZSsxrzgDdSj"
      }
    },
    {
      "cell_type": "code",
      "source": [
        "y = data['EstimatedSalary']\n",
        "X = data.drop(columns=['RowNumber','CustomerId','Surname','EstimatedSalary'])"
      ],
      "metadata": {
        "id": "GeAaA8er0xKT"
      },
      "execution_count": null,
      "outputs": []
    },
    {
      "cell_type": "code",
      "source": [
        "X"
      ],
      "metadata": {
        "id": "IwWBPy_u-VhU"
      },
      "execution_count": null,
      "outputs": []
    },
    {
      "cell_type": "code",
      "source": [
        "y"
      ],
      "metadata": {
        "id": "k6UEONrk-dZ9"
      },
      "execution_count": null,
      "outputs": []
    },
    {
      "cell_type": "markdown",
      "source": [
        "SCALING THE INDEPENDENT VARIABLES"
      ],
      "metadata": {
        "id": "KtNz_XKD25oL"
      }
    },
    {
      "cell_type": "code",
      "source": [
        "from sklearn.preprocessing import scale\n",
        "names = X.columns\n",
        "X = scale(X)\n",
        "X = pd.DataFrame(X,columns=names)"
      ],
      "metadata": {
        "id": "iVpKfD93233H"
      },
      "execution_count": null,
      "outputs": []
    },
    {
      "cell_type": "code",
      "source": [
        "X.head()"
      ],
      "metadata": {
        "id": "jOTWJwUJ8esa"
      },
      "execution_count": null,
      "outputs": []
    },
    {
      "cell_type": "markdown",
      "source": [
        "SPLIT THE DATA INTO TESTING AND TRAINING"
      ],
      "metadata": {
        "id": "26gqAlliDnfo"
      }
    },
    {
      "cell_type": "code",
      "source": [
        "from sklearn.linear_model import LinearRegression\n",
        "from sklearn.model_selection import train_test_split\n",
        "X_train, X_test, y_train, y_test = train_test_split(X, y, test_size=0.02, random_state=0)"
      ],
      "metadata": {
        "id": "XEwwRq3h_4Ab"
      },
      "execution_count": null,
      "outputs": []
    },
    {
      "cell_type": "code",
      "source": [
        "X_train"
      ],
      "metadata": {
        "id": "zeUKPMhVAvbl"
      },
      "execution_count": null,
      "outputs": []
    },
    {
      "cell_type": "code",
      "source": [
        "y_train"
      ],
      "metadata": {
        "id": "-TfuDuNuA5_p"
      },
      "execution_count": null,
      "outputs": []
    }
  ]
}